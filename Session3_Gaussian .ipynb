{
  "nbformat": 4,
  "nbformat_minor": 0,
  "metadata": {
    "colab": {
      "name": "Session3-Gaussian.ipynb",
      "private_outputs": true,
      "provenance": [],
      "collapsed_sections": []
    },
    "kernelspec": {
      "name": "python3",
      "display_name": "Python 3"
    },
    "language_info": {
      "name": "python"
    }
  },
  "cells": [
    {
      "cell_type": "code",
      "metadata": {
        "id": "ktpsz1qwnmWU"
      },
      "source": [
        "import numpy as np\n",
        "from math import pi, e\n",
        "import matplotlib.pyplot as plt"
      ],
      "execution_count": null,
      "outputs": []
    },
    {
      "cell_type": "code",
      "metadata": {
        "id": "E0ktsRFKnRqE"
      },
      "source": [
        "def gaussianFilter(size, sigma):\n",
        "    kernel =  np.fromfunction(lambda x, y: (1/(2*pi*sigma**2)) * e ** ((-1*((x-(size-1)/2)**2+(y-(size-1)/2)**2))/(2*sigma**2)), (size, size))\n",
        "    return kernel / np.sum(kernel)"
      ],
      "execution_count": null,
      "outputs": []
    },
    {
      "cell_type": "code",
      "metadata": {
        "id": "b_daFyuonU3E"
      },
      "source": [
        "gaussianFilter(3, 1)"
      ],
      "execution_count": null,
      "outputs": []
    },
    {
      "cell_type": "code",
      "metadata": {
        "id": "R9yoiSymnUu2"
      },
      "source": [
        "def gaussianBlur(img, kSize, kSigma):  \n",
        "    kernel = gaussianFilter(kSize, kSigma)\n",
        "    d = int((kSize-1)/2)\n",
        "    gaussian = np.zeros((img.shape[0]-2*d, img.shape[1]-2*d))\n",
        "    for y in range(d, img.shape[0]-d):\n",
        "        for x in range(d, img.shape[1]-d):\n",
        "            gaussian[y-d][x-d] = np.sum(np.multiply(img[y-d:y+d+1, x-d:x+d+1], kernel))\n",
        "    return gaussian"
      ],
      "execution_count": null,
      "outputs": []
    },
    {
      "cell_type": "code",
      "metadata": {
        "id": "sFmvTzMunqQ8"
      },
      "source": [
        "img = np.random.rand(100,100)"
      ],
      "execution_count": null,
      "outputs": []
    },
    {
      "cell_type": "code",
      "metadata": {
        "id": "lxcNOqOQrZGJ"
      },
      "source": [
        "# Display generated image\n",
        "\n",
        "plt.imshow(img)"
      ],
      "execution_count": null,
      "outputs": []
    },
    {
      "cell_type": "code",
      "metadata": {
        "id": "MBPkpSZRra8Z"
      },
      "source": [
        "blur_img = gaussianBlur(img, 3, 1)"
      ],
      "execution_count": null,
      "outputs": []
    },
    {
      "cell_type": "code",
      "metadata": {
        "id": "3kAgTMowrl83"
      },
      "source": [
        "plt.imshow(blur_img)"
      ],
      "execution_count": null,
      "outputs": []
    },
    {
      "cell_type": "code",
      "metadata": {
        "id": "shXGdADhrqvM"
      },
      "source": [
        ""
      ],
      "execution_count": null,
      "outputs": []
    }
  ]
}